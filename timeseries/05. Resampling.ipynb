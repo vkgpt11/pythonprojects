{
 "cells": [
  {
   "cell_type": "code",
   "execution_count": 2,
   "metadata": {
    "collapsed": true
   },
   "outputs": [],
   "source": [
    "import pandas as pd \n",
    "import numpy as np"
   ]
  },
  {
   "cell_type": "code",
   "execution_count": 3,
   "metadata": {
    "collapsed": true
   },
   "outputs": [],
   "source": [
    "rng = pd.date_range('1/1/2011',periods=72,freq='H')\n",
    "ts=pd.Series(list(range(len(rng))),index=rng)"
   ]
  },
  {
   "cell_type": "code",
   "execution_count": 5,
   "metadata": {},
   "outputs": [
    {
     "data": {
      "text/plain": [
       "2011-01-01 00:00:00    0\n",
       "2011-01-01 01:00:00    1\n",
       "2011-01-01 02:00:00    2\n",
       "2011-01-01 03:00:00    3\n",
       "2011-01-01 04:00:00    4\n",
       "Freq: H, dtype: int64"
      ]
     },
     "execution_count": 5,
     "metadata": {},
     "output_type": "execute_result"
    }
   ],
   "source": [
    "ts.head()"
   ]
  },
  {
   "cell_type": "code",
   "execution_count": 6,
   "metadata": {},
   "outputs": [
    {
     "data": {
      "text/plain": [
       "2011-01-01 00:00:00    0\n",
       "2011-01-01 00:45:00    0\n",
       "2011-01-01 01:30:00    1\n",
       "2011-01-01 02:15:00    2\n",
       "2011-01-01 03:00:00    3\n",
       "Freq: 45T, dtype: int64"
      ]
     },
     "execution_count": 6,
     "metadata": {},
     "output_type": "execute_result"
    }
   ],
   "source": [
    "# forward fill\n",
    "converted = ts.asfreq('45Min',method='ffill')\n",
    "converted.head()"
   ]
  },
  {
   "cell_type": "code",
   "execution_count": 7,
   "metadata": {},
   "outputs": [
    {
     "data": {
      "text/plain": [
       "2011-01-01 00:00:00    0\n",
       "2011-01-01 00:45:00    1\n",
       "2011-01-01 01:30:00    2\n",
       "2011-01-01 02:15:00    3\n",
       "2011-01-01 03:00:00    3\n",
       "Freq: 45T, dtype: int64"
      ]
     },
     "execution_count": 7,
     "metadata": {},
     "output_type": "execute_result"
    }
   ],
   "source": [
    "# backward fill\n",
    "converted = ts.asfreq('45Min',method='bfill')\n",
    "converted.head()"
   ]
  },
  {
   "cell_type": "code",
   "execution_count": 9,
   "metadata": {},
   "outputs": [
    {
     "data": {
      "text/plain": [
       "2011-01-01 00:00:00    0.0\n",
       "2011-01-01 00:45:00    NaN\n",
       "2011-01-01 01:30:00    NaN\n",
       "2011-01-01 02:15:00    NaN\n",
       "2011-01-01 03:00:00    3.0\n",
       "Freq: 45T, dtype: float64"
      ]
     },
     "execution_count": 9,
     "metadata": {},
     "output_type": "execute_result"
    }
   ],
   "source": [
    "#useful when you are joining with other timeseries data\n",
    "converted = ts.asfreq('45Min',method=None)\n",
    "converted.head()"
   ]
  },
  {
   "cell_type": "markdown",
   "metadata": {},
   "source": [
    "### What does the above code do to the size and content of your dataframe ?"
   ]
  },
  {
   "cell_type": "code",
   "execution_count": 10,
   "metadata": {},
   "outputs": [
    {
     "data": {
      "text/plain": [
       "2011-01-01 00:45:00    NaN\n",
       "2011-01-01 01:30:00    NaN\n",
       "2011-01-01 02:15:00    NaN\n",
       "2011-01-01 03:00:00    3.0\n",
       "2011-01-01 03:45:00    NaN\n",
       "2011-01-01 04:30:00    NaN\n",
       "2011-01-01 05:15:00    NaN\n",
       "2011-01-01 06:00:00    6.0\n",
       "2011-01-01 06:45:00    NaN\n",
       "Freq: 45T, dtype: float64"
      ]
     },
     "execution_count": 10,
     "metadata": {},
     "output_type": "execute_result"
    }
   ],
   "source": [
    "converted[1:10]"
   ]
  },
  {
   "cell_type": "code",
   "execution_count": 11,
   "metadata": {},
   "outputs": [
    {
     "data": {
      "text/plain": [
       "2011-01-01 01:00:00    1\n",
       "2011-01-01 02:00:00    2\n",
       "2011-01-01 03:00:00    3\n",
       "2011-01-01 04:00:00    4\n",
       "2011-01-01 05:00:00    5\n",
       "2011-01-01 06:00:00    6\n",
       "2011-01-01 07:00:00    7\n",
       "2011-01-01 08:00:00    8\n",
       "2011-01-01 09:00:00    9\n",
       "Freq: H, dtype: int64"
      ]
     },
     "execution_count": 11,
     "metadata": {},
     "output_type": "execute_result"
    }
   ],
   "source": [
    "ts[1:10]"
   ]
  },
  {
   "cell_type": "code",
   "execution_count": 12,
   "metadata": {},
   "outputs": [
    {
     "name": "stdout",
     "output_type": "stream",
     "text": [
      "(72,)\n",
      "(95,)\n"
     ]
    }
   ],
   "source": [
    "print(ts.shape)\n",
    "print(converted.shape)"
   ]
  },
  {
   "cell_type": "markdown",
   "metadata": {},
   "source": [
    "### Take a look at the specs for .asfreq(). what are you options for filling in missing data?"
   ]
  },
  {
   "cell_type": "code",
   "execution_count": 13,
   "metadata": {
    "collapsed": true
   },
   "outputs": [],
   "source": [
    "ts.asfreq??\n"
   ]
  },
  {
   "cell_type": "markdown",
   "metadata": {},
   "source": [
    "### How can you go to less frequent rather than more frequent?"
   ]
  },
  {
   "cell_type": "code",
   "execution_count": 14,
   "metadata": {
    "collapsed": true
   },
   "outputs": [],
   "source": [
    "converted = ts.asfreq('3H')"
   ]
  },
  {
   "cell_type": "code",
   "execution_count": 15,
   "metadata": {},
   "outputs": [
    {
     "data": {
      "text/plain": [
       "2011-01-01 03:00:00     3\n",
       "2011-01-01 06:00:00     6\n",
       "2011-01-01 09:00:00     9\n",
       "2011-01-01 12:00:00    12\n",
       "2011-01-01 15:00:00    15\n",
       "2011-01-01 18:00:00    18\n",
       "2011-01-01 21:00:00    21\n",
       "2011-01-02 00:00:00    24\n",
       "2011-01-02 03:00:00    27\n",
       "Freq: 3H, dtype: int64"
      ]
     },
     "execution_count": 15,
     "metadata": {},
     "output_type": "execute_result"
    }
   ],
   "source": [
    "converted[1:10]"
   ]
  },
  {
   "cell_type": "code",
   "execution_count": 16,
   "metadata": {},
   "outputs": [
    {
     "data": {
      "text/plain": [
       "2011-01-01 01:00:00    1\n",
       "2011-01-01 02:00:00    2\n",
       "2011-01-01 03:00:00    3\n",
       "2011-01-01 04:00:00    4\n",
       "2011-01-01 05:00:00    5\n",
       "2011-01-01 06:00:00    6\n",
       "2011-01-01 07:00:00    7\n",
       "2011-01-01 08:00:00    8\n",
       "2011-01-01 09:00:00    9\n",
       "Freq: H, dtype: int64"
      ]
     },
     "execution_count": 16,
     "metadata": {},
     "output_type": "execute_result"
    }
   ],
   "source": [
    "ts[1:10]"
   ]
  },
  {
   "cell_type": "code",
   "execution_count": 21,
   "metadata": {},
   "outputs": [
    {
     "name": "stderr",
     "output_type": "stream",
     "text": [
      "/home/vikas/anaconda3/lib/python3.6/site-packages/ipykernel_launcher.py:3: FutureWarning: \n",
      ".resample() is now a deferred operation\n",
      "You called head(...) on this deferred object which materialized it into a series\n",
      "by implicitly taking the mean.  Use .resample(...).mean() instead\n",
      "  This is separate from the ipykernel package so we can avoid doing imports until\n"
     ]
    },
    {
     "data": {
      "text/plain": [
       "2011-01-01 02:00:00    0.5\n",
       "2011-01-01 04:00:00    2.5\n",
       "2011-01-01 06:00:00    4.5\n",
       "2011-01-01 08:00:00    6.5\n",
       "2011-01-01 10:00:00    8.5\n",
       "Freq: 2H, dtype: float64"
      ]
     },
     "execution_count": 21,
     "metadata": {},
     "output_type": "execute_result"
    }
   ],
   "source": [
    "# Let's try the more flexible .resample()\n",
    "ts.resample('2H',label='right').mean()[:10]"
   ]
  },
  {
   "cell_type": "code",
   "execution_count": 23,
   "metadata": {},
   "outputs": [],
   "source": [
    "ts.resample??"
   ]
  },
  {
   "cell_type": "markdown",
   "metadata": {},
   "source": [
    "### What is particularly useful is that we can use resample to even out irregular timeseries"
   ]
  },
  {
   "cell_type": "code",
   "execution_count": 30,
   "metadata": {},
   "outputs": [
    {
     "data": {
      "text/plain": [
       "2011-01-01 06:00:00     6\n",
       "2011-01-01 08:00:00     8\n",
       "2011-01-03 20:00:00    68\n",
       "2011-01-01 00:00:00     0\n",
       "2011-01-01 07:00:00     7\n",
       "2011-01-02 02:00:00    26\n",
       "2011-01-01 13:00:00    13\n",
       "2011-01-02 04:00:00    28\n",
       "2011-01-01 18:00:00    18\n",
       "2011-01-01 23:00:00    23\n",
       "dtype: int64"
      ]
     },
     "execution_count": 30,
     "metadata": {},
     "output_type": "execute_result"
    }
   ],
   "source": [
    "irreg_ts = ts[list(np.random.choice(a=list(range(len(ts))),size=10,replace=False))]\n",
    "irreg_ts"
   ]
  },
  {
   "cell_type": "code",
   "execution_count": 31,
   "metadata": {},
   "outputs": [
    {
     "data": {
      "text/plain": [
       "2011-01-01 06:00:00    6\n",
       "Freq: D, dtype: int64"
      ]
     },
     "execution_count": 31,
     "metadata": {},
     "output_type": "execute_result"
    }
   ],
   "source": [
    "irreg_ts.asfreq('D')"
   ]
  },
  {
   "cell_type": "markdown",
   "metadata": {},
   "source": [
    "#### Why did not that work?\n",
    "\n",
    "* Data is not in order, pandas expects ordered data"
   ]
  },
  {
   "cell_type": "code",
   "execution_count": 32,
   "metadata": {},
   "outputs": [
    {
     "data": {
      "text/plain": [
       "2011-01-01 00:00:00     0\n",
       "2011-01-01 06:00:00     6\n",
       "2011-01-01 07:00:00     7\n",
       "2011-01-01 08:00:00     8\n",
       "2011-01-01 13:00:00    13\n",
       "2011-01-01 18:00:00    18\n",
       "2011-01-01 23:00:00    23\n",
       "2011-01-02 02:00:00    26\n",
       "2011-01-02 04:00:00    28\n",
       "2011-01-03 20:00:00    68\n",
       "dtype: int64"
      ]
     },
     "execution_count": 32,
     "metadata": {},
     "output_type": "execute_result"
    }
   ],
   "source": [
    "irreg_ts = irreg_ts.sort_index()\n",
    "irreg_ts"
   ]
  },
  {
   "cell_type": "code",
   "execution_count": 34,
   "metadata": {},
   "outputs": [
    {
     "data": {
      "text/plain": [
       "2011-01-01     0\n",
       "2011-01-02    26\n",
       "2011-01-03    68\n",
       "Freq: D, dtype: int64"
      ]
     },
     "execution_count": 34,
     "metadata": {},
     "output_type": "execute_result"
    }
   ],
   "source": [
    "irreg_ts.asfreq('D',method='bfill')"
   ]
  },
  {
   "cell_type": "code",
   "execution_count": 36,
   "metadata": {},
   "outputs": [
    {
     "data": {
      "text/plain": [
       "2011-01-01    10.714286\n",
       "2011-01-02    27.000000\n",
       "2011-01-03    68.000000\n",
       "Freq: D, dtype: float64"
      ]
     },
     "execution_count": 36,
     "metadata": {},
     "output_type": "execute_result"
    }
   ],
   "source": [
    "irreg_ts.resample('D').mean()"
   ]
  },
  {
   "cell_type": "markdown",
   "metadata": {},
   "source": [
    "## Try\n",
    "1. what if you wants to go to a higher frequency, but you did not want to back fill or forward fill? why might you want to do that?\n",
    "2. What is the difference between .resample() and .asfreq()?\n",
    "    * .resample -> Groupby, take mean,min,max\n",
    "    * .asfreq ->up sample and down sample, ffill,bfill\n",
    "3. How can I forword-fill only a few days (hint: .fillna)\n",
    "4. What are some helpful functions to use with Resampler object?\n",
    "    * gets agrregate statistics over large period of time as you down sample it"
   ]
  },
  {
   "cell_type": "code",
   "execution_count": 38,
   "metadata": {},
   "outputs": [
    {
     "data": {
      "text/plain": [
       "2011-01-01 00:00:00     0.0\n",
       "2011-01-01 00:10:00     0.0\n",
       "2011-01-01 00:20:00     0.0\n",
       "2011-01-01 00:30:00     0.0\n",
       "2011-01-01 00:40:00     NaN\n",
       "2011-01-01 00:50:00     NaN\n",
       "2011-01-01 01:00:00     NaN\n",
       "2011-01-01 01:10:00     NaN\n",
       "2011-01-01 01:20:00     NaN\n",
       "2011-01-01 01:30:00     NaN\n",
       "2011-01-01 01:40:00     NaN\n",
       "2011-01-01 01:50:00     NaN\n",
       "2011-01-01 02:00:00     NaN\n",
       "2011-01-01 02:10:00     NaN\n",
       "2011-01-01 02:20:00     NaN\n",
       "2011-01-01 02:30:00     NaN\n",
       "2011-01-01 02:40:00     NaN\n",
       "2011-01-01 02:50:00     NaN\n",
       "2011-01-01 03:00:00     3.0\n",
       "2011-01-01 03:10:00     3.0\n",
       "2011-01-01 03:20:00     3.0\n",
       "2011-01-01 03:30:00     3.0\n",
       "2011-01-01 03:40:00     NaN\n",
       "2011-01-01 03:50:00     NaN\n",
       "2011-01-01 04:00:00     NaN\n",
       "2011-01-01 04:10:00     NaN\n",
       "2011-01-01 04:20:00     NaN\n",
       "2011-01-01 04:30:00     NaN\n",
       "2011-01-01 04:40:00     NaN\n",
       "2011-01-01 04:50:00     NaN\n",
       "                       ... \n",
       "2011-01-03 16:10:00     NaN\n",
       "2011-01-03 16:20:00     NaN\n",
       "2011-01-03 16:30:00     NaN\n",
       "2011-01-03 16:40:00     NaN\n",
       "2011-01-03 16:50:00     NaN\n",
       "2011-01-03 17:00:00     NaN\n",
       "2011-01-03 17:10:00     NaN\n",
       "2011-01-03 17:20:00     NaN\n",
       "2011-01-03 17:30:00     NaN\n",
       "2011-01-03 17:40:00     NaN\n",
       "2011-01-03 17:50:00     NaN\n",
       "2011-01-03 18:00:00    66.0\n",
       "2011-01-03 18:10:00    66.0\n",
       "2011-01-03 18:20:00    66.0\n",
       "2011-01-03 18:30:00    66.0\n",
       "2011-01-03 18:40:00     NaN\n",
       "2011-01-03 18:50:00     NaN\n",
       "2011-01-03 19:00:00     NaN\n",
       "2011-01-03 19:10:00     NaN\n",
       "2011-01-03 19:20:00     NaN\n",
       "2011-01-03 19:30:00     NaN\n",
       "2011-01-03 19:40:00     NaN\n",
       "2011-01-03 19:50:00     NaN\n",
       "2011-01-03 20:00:00     NaN\n",
       "2011-01-03 20:10:00     NaN\n",
       "2011-01-03 20:20:00     NaN\n",
       "2011-01-03 20:30:00     NaN\n",
       "2011-01-03 20:40:00     NaN\n",
       "2011-01-03 20:50:00     NaN\n",
       "2011-01-03 21:00:00    69.0\n",
       "Freq: 10T, Length: 415, dtype: float64"
      ]
     },
     "execution_count": 38,
     "metadata": {},
     "output_type": "execute_result"
    }
   ],
   "source": [
    "# How can I forword-fill only a few days (hint: .fillna)\n",
    "\n",
    "converted.asfreq('10Min',method=None).fillna(method='ffill',limit=3)"
   ]
  },
  {
   "cell_type": "code",
   "execution_count": null,
   "metadata": {
    "collapsed": true
   },
   "outputs": [],
   "source": []
  }
 ],
 "metadata": {
  "kernelspec": {
   "display_name": "Python 3",
   "language": "python",
   "name": "python3"
  },
  "language_info": {
   "codemirror_mode": {
    "name": "ipython",
    "version": 3
   },
   "file_extension": ".py",
   "mimetype": "text/x-python",
   "name": "python",
   "nbconvert_exporter": "python",
   "pygments_lexer": "ipython3",
   "version": "3.6.1"
  }
 },
 "nbformat": 4,
 "nbformat_minor": 2
}
